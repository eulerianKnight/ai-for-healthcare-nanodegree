{
 "cells": [
  {
   "cell_type": "code",
   "execution_count": 2,
   "metadata": {
    "ExecuteTime": {
     "end_time": "2024-02-18T17:28:28.199387600Z",
     "start_time": "2024-02-18T17:28:28.187467500Z"
    }
   },
   "outputs": [],
   "source": [
    "import pandas as pd\n",
    "import numpy as np"
   ]
  },
  {
   "cell_type": "markdown",
   "metadata": {},
   "source": [
    "## Worklist prioritization: Emergency Setting"
   ]
  },
  {
   "cell_type": "code",
   "execution_count": 3,
   "metadata": {
    "ExecuteTime": {
     "end_time": "2024-02-18T17:28:31.056422300Z",
     "start_time": "2024-02-18T17:28:31.038859800Z"
    }
   },
   "outputs": [],
   "source": [
    "## First, read in the file of the current worklist with the probabilities that your two algorithms have\n",
    "## generated for the two types of findings you're most concerned with:\n",
    "\n",
    "worklist = pd.read_csv('probabilities.csv')"
   ]
  },
  {
   "cell_type": "code",
   "execution_count": 4,
   "metadata": {
    "ExecuteTime": {
     "end_time": "2024-02-18T17:28:33.387079Z",
     "start_time": "2024-02-18T17:28:33.348572Z"
    }
   },
   "outputs": [
    {
     "data": {
      "text/plain": "   Image_Type  Brain_bleed_probability  Aortic_dissection_probability\n0  chest_xray                      0.0                           0.05\n1  chest_xray                      0.0                           0.17\n2  chest_xray                      0.0                           0.00\n3  chest_xray                      0.0                           0.04\n4  wrist_xray                      0.0                           0.00",
      "text/html": "<div>\n<style scoped>\n    .dataframe tbody tr th:only-of-type {\n        vertical-align: middle;\n    }\n\n    .dataframe tbody tr th {\n        vertical-align: top;\n    }\n\n    .dataframe thead th {\n        text-align: right;\n    }\n</style>\n<table border=\"1\" class=\"dataframe\">\n  <thead>\n    <tr style=\"text-align: right;\">\n      <th></th>\n      <th>Image_Type</th>\n      <th>Brain_bleed_probability</th>\n      <th>Aortic_dissection_probability</th>\n    </tr>\n  </thead>\n  <tbody>\n    <tr>\n      <th>0</th>\n      <td>chest_xray</td>\n      <td>0.0</td>\n      <td>0.05</td>\n    </tr>\n    <tr>\n      <th>1</th>\n      <td>chest_xray</td>\n      <td>0.0</td>\n      <td>0.17</td>\n    </tr>\n    <tr>\n      <th>2</th>\n      <td>chest_xray</td>\n      <td>0.0</td>\n      <td>0.00</td>\n    </tr>\n    <tr>\n      <th>3</th>\n      <td>chest_xray</td>\n      <td>0.0</td>\n      <td>0.04</td>\n    </tr>\n    <tr>\n      <th>4</th>\n      <td>wrist_xray</td>\n      <td>0.0</td>\n      <td>0.00</td>\n    </tr>\n  </tbody>\n</table>\n</div>"
     },
     "execution_count": 4,
     "metadata": {},
     "output_type": "execute_result"
    }
   ],
   "source": [
    "worklist.head()"
   ]
  },
  {
   "cell_type": "markdown",
   "metadata": {},
   "source": [
    "Here, I'm just creating a new column to address the first question in the exercise, showing that every image taking 6 minutes to read will be read in the order that they are presented in this list."
   ]
  },
  {
   "cell_type": "code",
   "execution_count": 5,
   "metadata": {
    "ExecuteTime": {
     "end_time": "2024-02-18T17:29:14.563310800Z",
     "start_time": "2024-02-18T17:29:14.546749700Z"
    }
   },
   "outputs": [],
   "source": [
    "worklist['time_to_read'] = np.arange(6, 6*(len(worklist)+1),6)"
   ]
  },
  {
   "cell_type": "code",
   "execution_count": 6,
   "metadata": {
    "ExecuteTime": {
     "end_time": "2024-02-18T17:29:15.718166400Z",
     "start_time": "2024-02-18T17:29:15.705360800Z"
    }
   },
   "outputs": [
    {
     "data": {
      "text/plain": "   Image_Type  Brain_bleed_probability  Aortic_dissection_probability  \\\n0  chest_xray                      0.0                           0.05   \n1  chest_xray                      0.0                           0.17   \n2  chest_xray                      0.0                           0.00   \n3  chest_xray                      0.0                           0.04   \n4  wrist_xray                      0.0                           0.00   \n\n   time_to_read  \n0             6  \n1            12  \n2            18  \n3            24  \n4            30  ",
      "text/html": "<div>\n<style scoped>\n    .dataframe tbody tr th:only-of-type {\n        vertical-align: middle;\n    }\n\n    .dataframe tbody tr th {\n        vertical-align: top;\n    }\n\n    .dataframe thead th {\n        text-align: right;\n    }\n</style>\n<table border=\"1\" class=\"dataframe\">\n  <thead>\n    <tr style=\"text-align: right;\">\n      <th></th>\n      <th>Image_Type</th>\n      <th>Brain_bleed_probability</th>\n      <th>Aortic_dissection_probability</th>\n      <th>time_to_read</th>\n    </tr>\n  </thead>\n  <tbody>\n    <tr>\n      <th>0</th>\n      <td>chest_xray</td>\n      <td>0.0</td>\n      <td>0.05</td>\n      <td>6</td>\n    </tr>\n    <tr>\n      <th>1</th>\n      <td>chest_xray</td>\n      <td>0.0</td>\n      <td>0.17</td>\n      <td>12</td>\n    </tr>\n    <tr>\n      <th>2</th>\n      <td>chest_xray</td>\n      <td>0.0</td>\n      <td>0.00</td>\n      <td>18</td>\n    </tr>\n    <tr>\n      <th>3</th>\n      <td>chest_xray</td>\n      <td>0.0</td>\n      <td>0.04</td>\n      <td>24</td>\n    </tr>\n    <tr>\n      <th>4</th>\n      <td>wrist_xray</td>\n      <td>0.0</td>\n      <td>0.00</td>\n      <td>30</td>\n    </tr>\n  </tbody>\n</table>\n</div>"
     },
     "execution_count": 6,
     "metadata": {},
     "output_type": "execute_result"
    }
   ],
   "source": [
    "worklist.head()"
   ]
  },
  {
   "cell_type": "markdown",
   "metadata": {},
   "source": [
    "Now, for each image, I want to see if brain bleed or aortic dissection are likely. I'll create a new column showing the max probability between the two of them"
   ]
  },
  {
   "cell_type": "code",
   "execution_count": 7,
   "metadata": {
    "ExecuteTime": {
     "end_time": "2024-02-18T17:29:56.483905200Z",
     "start_time": "2024-02-18T17:29:56.470935900Z"
    }
   },
   "outputs": [],
   "source": [
    "worklist['max_prob'] = worklist[[\"Brain_bleed_probability\", \"Aortic_dissection_probability\"]].max(axis=1)"
   ]
  },
  {
   "cell_type": "code",
   "execution_count": 8,
   "metadata": {
    "ExecuteTime": {
     "end_time": "2024-02-18T17:29:57.427429800Z",
     "start_time": "2024-02-18T17:29:57.393477Z"
    }
   },
   "outputs": [
    {
     "data": {
      "text/plain": "   Image_Type  Brain_bleed_probability  Aortic_dissection_probability  \\\n0  chest_xray                      0.0                           0.05   \n1  chest_xray                      0.0                           0.17   \n2  chest_xray                      0.0                           0.00   \n3  chest_xray                      0.0                           0.04   \n4  wrist_xray                      0.0                           0.00   \n\n   time_to_read  max_prob  \n0             6      0.05  \n1            12      0.17  \n2            18      0.00  \n3            24      0.04  \n4            30      0.00  ",
      "text/html": "<div>\n<style scoped>\n    .dataframe tbody tr th:only-of-type {\n        vertical-align: middle;\n    }\n\n    .dataframe tbody tr th {\n        vertical-align: top;\n    }\n\n    .dataframe thead th {\n        text-align: right;\n    }\n</style>\n<table border=\"1\" class=\"dataframe\">\n  <thead>\n    <tr style=\"text-align: right;\">\n      <th></th>\n      <th>Image_Type</th>\n      <th>Brain_bleed_probability</th>\n      <th>Aortic_dissection_probability</th>\n      <th>time_to_read</th>\n      <th>max_prob</th>\n    </tr>\n  </thead>\n  <tbody>\n    <tr>\n      <th>0</th>\n      <td>chest_xray</td>\n      <td>0.0</td>\n      <td>0.05</td>\n      <td>6</td>\n      <td>0.05</td>\n    </tr>\n    <tr>\n      <th>1</th>\n      <td>chest_xray</td>\n      <td>0.0</td>\n      <td>0.17</td>\n      <td>12</td>\n      <td>0.17</td>\n    </tr>\n    <tr>\n      <th>2</th>\n      <td>chest_xray</td>\n      <td>0.0</td>\n      <td>0.00</td>\n      <td>18</td>\n      <td>0.00</td>\n    </tr>\n    <tr>\n      <th>3</th>\n      <td>chest_xray</td>\n      <td>0.0</td>\n      <td>0.04</td>\n      <td>24</td>\n      <td>0.04</td>\n    </tr>\n    <tr>\n      <th>4</th>\n      <td>wrist_xray</td>\n      <td>0.0</td>\n      <td>0.00</td>\n      <td>30</td>\n      <td>0.00</td>\n    </tr>\n  </tbody>\n</table>\n</div>"
     },
     "execution_count": 8,
     "metadata": {},
     "output_type": "execute_result"
    }
   ],
   "source": [
    "worklist.head()"
   ]
  },
  {
   "cell_type": "markdown",
   "metadata": {},
   "source": [
    "Great, now I want to re-order my worklist based on probabilities of critical findings:"
   ]
  },
  {
   "cell_type": "code",
   "execution_count": 9,
   "metadata": {
    "ExecuteTime": {
     "end_time": "2024-02-18T17:30:03.565231200Z",
     "start_time": "2024-02-18T17:30:03.555059Z"
    }
   },
   "outputs": [],
   "source": [
    "worklist_prioritized = worklist.sort_values(by=['max_prob'],ascending=False)"
   ]
  },
  {
   "cell_type": "code",
   "execution_count": 10,
   "metadata": {
    "ExecuteTime": {
     "end_time": "2024-02-18T17:30:06.885870Z",
     "start_time": "2024-02-18T17:30:06.873275700Z"
    }
   },
   "outputs": [
    {
     "data": {
      "text/plain": "    Image_Type  Brain_bleed_probability  Aortic_dissection_probability  \\\n25     head_ct                     0.99                           0.00   \n15  chest_xray                     0.00                           0.95   \n10  chest_xray                     0.00                           0.94   \n75  chest_xray                     0.00                           0.93   \n47  chest_xray                     0.00                           0.93   \n\n    time_to_read  max_prob  \n25           156      0.99  \n15            96      0.95  \n10            66      0.94  \n75           456      0.93  \n47           288      0.93  ",
      "text/html": "<div>\n<style scoped>\n    .dataframe tbody tr th:only-of-type {\n        vertical-align: middle;\n    }\n\n    .dataframe tbody tr th {\n        vertical-align: top;\n    }\n\n    .dataframe thead th {\n        text-align: right;\n    }\n</style>\n<table border=\"1\" class=\"dataframe\">\n  <thead>\n    <tr style=\"text-align: right;\">\n      <th></th>\n      <th>Image_Type</th>\n      <th>Brain_bleed_probability</th>\n      <th>Aortic_dissection_probability</th>\n      <th>time_to_read</th>\n      <th>max_prob</th>\n    </tr>\n  </thead>\n  <tbody>\n    <tr>\n      <th>25</th>\n      <td>head_ct</td>\n      <td>0.99</td>\n      <td>0.00</td>\n      <td>156</td>\n      <td>0.99</td>\n    </tr>\n    <tr>\n      <th>15</th>\n      <td>chest_xray</td>\n      <td>0.00</td>\n      <td>0.95</td>\n      <td>96</td>\n      <td>0.95</td>\n    </tr>\n    <tr>\n      <th>10</th>\n      <td>chest_xray</td>\n      <td>0.00</td>\n      <td>0.94</td>\n      <td>66</td>\n      <td>0.94</td>\n    </tr>\n    <tr>\n      <th>75</th>\n      <td>chest_xray</td>\n      <td>0.00</td>\n      <td>0.93</td>\n      <td>456</td>\n      <td>0.93</td>\n    </tr>\n    <tr>\n      <th>47</th>\n      <td>chest_xray</td>\n      <td>0.00</td>\n      <td>0.93</td>\n      <td>288</td>\n      <td>0.93</td>\n    </tr>\n  </tbody>\n</table>\n</div>"
     },
     "execution_count": 10,
     "metadata": {},
     "output_type": "execute_result"
    }
   ],
   "source": [
    "worklist_prioritized.head()"
   ]
  },
  {
   "cell_type": "code",
   "execution_count": 11,
   "metadata": {
    "ExecuteTime": {
     "end_time": "2024-02-18T17:30:16.153672Z",
     "start_time": "2024-02-18T17:30:16.135335100Z"
    }
   },
   "outputs": [],
   "source": [
    "worklist_prioritized['time_to_read_prioritized'] = np.arange(6, 6*(len(worklist)+1),6)"
   ]
  },
  {
   "cell_type": "code",
   "execution_count": 12,
   "metadata": {
    "ExecuteTime": {
     "end_time": "2024-02-18T17:30:16.968317200Z",
     "start_time": "2024-02-18T17:30:16.956182900Z"
    }
   },
   "outputs": [],
   "source": [
    "worklist_prioritized['time_delta'] = worklist_prioritized['time_to_read'] - worklist_prioritized['time_to_read_prioritized']"
   ]
  },
  {
   "cell_type": "code",
   "execution_count": 13,
   "metadata": {
    "ExecuteTime": {
     "end_time": "2024-02-18T17:30:20.850045Z",
     "start_time": "2024-02-18T17:30:20.835603900Z"
    }
   },
   "outputs": [
    {
     "data": {
      "text/plain": "    Image_Type  Brain_bleed_probability  Aortic_dissection_probability  \\\n25     head_ct                     0.99                           0.00   \n15  chest_xray                     0.00                           0.95   \n10  chest_xray                     0.00                           0.94   \n75  chest_xray                     0.00                           0.93   \n47  chest_xray                     0.00                           0.93   \n\n    time_to_read  max_prob  time_to_read_prioritized  time_delta  \n25           156      0.99                         6         150  \n15            96      0.95                        12          84  \n10            66      0.94                        18          48  \n75           456      0.93                        24         432  \n47           288      0.93                        30         258  ",
      "text/html": "<div>\n<style scoped>\n    .dataframe tbody tr th:only-of-type {\n        vertical-align: middle;\n    }\n\n    .dataframe tbody tr th {\n        vertical-align: top;\n    }\n\n    .dataframe thead th {\n        text-align: right;\n    }\n</style>\n<table border=\"1\" class=\"dataframe\">\n  <thead>\n    <tr style=\"text-align: right;\">\n      <th></th>\n      <th>Image_Type</th>\n      <th>Brain_bleed_probability</th>\n      <th>Aortic_dissection_probability</th>\n      <th>time_to_read</th>\n      <th>max_prob</th>\n      <th>time_to_read_prioritized</th>\n      <th>time_delta</th>\n    </tr>\n  </thead>\n  <tbody>\n    <tr>\n      <th>25</th>\n      <td>head_ct</td>\n      <td>0.99</td>\n      <td>0.00</td>\n      <td>156</td>\n      <td>0.99</td>\n      <td>6</td>\n      <td>150</td>\n    </tr>\n    <tr>\n      <th>15</th>\n      <td>chest_xray</td>\n      <td>0.00</td>\n      <td>0.95</td>\n      <td>96</td>\n      <td>0.95</td>\n      <td>12</td>\n      <td>84</td>\n    </tr>\n    <tr>\n      <th>10</th>\n      <td>chest_xray</td>\n      <td>0.00</td>\n      <td>0.94</td>\n      <td>66</td>\n      <td>0.94</td>\n      <td>18</td>\n      <td>48</td>\n    </tr>\n    <tr>\n      <th>75</th>\n      <td>chest_xray</td>\n      <td>0.00</td>\n      <td>0.93</td>\n      <td>456</td>\n      <td>0.93</td>\n      <td>24</td>\n      <td>432</td>\n    </tr>\n    <tr>\n      <th>47</th>\n      <td>chest_xray</td>\n      <td>0.00</td>\n      <td>0.93</td>\n      <td>288</td>\n      <td>0.93</td>\n      <td>30</td>\n      <td>258</td>\n    </tr>\n  </tbody>\n</table>\n</div>"
     },
     "execution_count": 13,
     "metadata": {},
     "output_type": "execute_result"
    }
   ],
   "source": [
    "worklist_prioritized.head()"
   ]
  },
  {
   "cell_type": "markdown",
   "metadata": {},
   "source": [
    "Now, I want to find places where my algorithm saved at least 30 minutes for brain bleeds:"
   ]
  },
  {
   "cell_type": "code",
   "execution_count": 14,
   "metadata": {
    "ExecuteTime": {
     "end_time": "2024-02-18T17:30:34.161788300Z",
     "start_time": "2024-02-18T17:30:34.144996Z"
    }
   },
   "outputs": [
    {
     "data": {
      "text/plain": "   Image_Type  Brain_bleed_probability  Aortic_dissection_probability  \\\n25    head_ct                     0.99                            0.0   \n84    head_ct                     0.91                            0.0   \n95    head_ct                     0.90                            0.0   \n42    head_ct                     0.89                            0.0   \n59    head_ct                     0.89                            0.0   \n89    head_ct                     0.78                            0.0   \n39    head_ct                     0.77                            0.0   \n45    head_ct                     0.75                            0.0   \n76    head_ct                     0.69                            0.0   \n96    head_ct                     0.45                            0.0   \n78    head_ct                     0.44                            0.0   \n56    head_ct                     0.22                            0.0   \n68    head_ct                     0.07                            0.0   \n82    head_ct                     0.05                            0.0   \n\n    time_to_read  max_prob  time_to_read_prioritized  time_delta  \n25           156      0.99                         6         150  \n84           510      0.91                        36         474  \n95           576      0.90                        42         534  \n42           258      0.89                        48         210  \n59           360      0.89                        54         306  \n89           540      0.78                        96         444  \n39           240      0.77                       102         138  \n45           276      0.75                       108         168  \n76           462      0.69                       144         318  \n96           582      0.45                       198         384  \n78           474      0.44                       204         270  \n56           342      0.22                       258          84  \n68           414      0.07                       324          90  \n82           498      0.05                       336         162  ",
      "text/html": "<div>\n<style scoped>\n    .dataframe tbody tr th:only-of-type {\n        vertical-align: middle;\n    }\n\n    .dataframe tbody tr th {\n        vertical-align: top;\n    }\n\n    .dataframe thead th {\n        text-align: right;\n    }\n</style>\n<table border=\"1\" class=\"dataframe\">\n  <thead>\n    <tr style=\"text-align: right;\">\n      <th></th>\n      <th>Image_Type</th>\n      <th>Brain_bleed_probability</th>\n      <th>Aortic_dissection_probability</th>\n      <th>time_to_read</th>\n      <th>max_prob</th>\n      <th>time_to_read_prioritized</th>\n      <th>time_delta</th>\n    </tr>\n  </thead>\n  <tbody>\n    <tr>\n      <th>25</th>\n      <td>head_ct</td>\n      <td>0.99</td>\n      <td>0.0</td>\n      <td>156</td>\n      <td>0.99</td>\n      <td>6</td>\n      <td>150</td>\n    </tr>\n    <tr>\n      <th>84</th>\n      <td>head_ct</td>\n      <td>0.91</td>\n      <td>0.0</td>\n      <td>510</td>\n      <td>0.91</td>\n      <td>36</td>\n      <td>474</td>\n    </tr>\n    <tr>\n      <th>95</th>\n      <td>head_ct</td>\n      <td>0.90</td>\n      <td>0.0</td>\n      <td>576</td>\n      <td>0.90</td>\n      <td>42</td>\n      <td>534</td>\n    </tr>\n    <tr>\n      <th>42</th>\n      <td>head_ct</td>\n      <td>0.89</td>\n      <td>0.0</td>\n      <td>258</td>\n      <td>0.89</td>\n      <td>48</td>\n      <td>210</td>\n    </tr>\n    <tr>\n      <th>59</th>\n      <td>head_ct</td>\n      <td>0.89</td>\n      <td>0.0</td>\n      <td>360</td>\n      <td>0.89</td>\n      <td>54</td>\n      <td>306</td>\n    </tr>\n    <tr>\n      <th>89</th>\n      <td>head_ct</td>\n      <td>0.78</td>\n      <td>0.0</td>\n      <td>540</td>\n      <td>0.78</td>\n      <td>96</td>\n      <td>444</td>\n    </tr>\n    <tr>\n      <th>39</th>\n      <td>head_ct</td>\n      <td>0.77</td>\n      <td>0.0</td>\n      <td>240</td>\n      <td>0.77</td>\n      <td>102</td>\n      <td>138</td>\n    </tr>\n    <tr>\n      <th>45</th>\n      <td>head_ct</td>\n      <td>0.75</td>\n      <td>0.0</td>\n      <td>276</td>\n      <td>0.75</td>\n      <td>108</td>\n      <td>168</td>\n    </tr>\n    <tr>\n      <th>76</th>\n      <td>head_ct</td>\n      <td>0.69</td>\n      <td>0.0</td>\n      <td>462</td>\n      <td>0.69</td>\n      <td>144</td>\n      <td>318</td>\n    </tr>\n    <tr>\n      <th>96</th>\n      <td>head_ct</td>\n      <td>0.45</td>\n      <td>0.0</td>\n      <td>582</td>\n      <td>0.45</td>\n      <td>198</td>\n      <td>384</td>\n    </tr>\n    <tr>\n      <th>78</th>\n      <td>head_ct</td>\n      <td>0.44</td>\n      <td>0.0</td>\n      <td>474</td>\n      <td>0.44</td>\n      <td>204</td>\n      <td>270</td>\n    </tr>\n    <tr>\n      <th>56</th>\n      <td>head_ct</td>\n      <td>0.22</td>\n      <td>0.0</td>\n      <td>342</td>\n      <td>0.22</td>\n      <td>258</td>\n      <td>84</td>\n    </tr>\n    <tr>\n      <th>68</th>\n      <td>head_ct</td>\n      <td>0.07</td>\n      <td>0.0</td>\n      <td>414</td>\n      <td>0.07</td>\n      <td>324</td>\n      <td>90</td>\n    </tr>\n    <tr>\n      <th>82</th>\n      <td>head_ct</td>\n      <td>0.05</td>\n      <td>0.0</td>\n      <td>498</td>\n      <td>0.05</td>\n      <td>336</td>\n      <td>162</td>\n    </tr>\n  </tbody>\n</table>\n</div>"
     },
     "execution_count": 14,
     "metadata": {},
     "output_type": "execute_result"
    }
   ],
   "source": [
    "worklist_prioritized[((worklist_prioritized.time_delta>30)&(worklist_prioritized.Image_Type=='head_ct'))]"
   ]
  },
  {
   "cell_type": "markdown",
   "metadata": {},
   "source": [
    "Looks like there are 14 head CTs that were read more than 30 minutes faster than their original order. All but the last three had a probability of brain bleed < 0.4."
   ]
  },
  {
   "cell_type": "markdown",
   "metadata": {},
   "source": [
    "Do the same analysis for saving at least 15 minutes with aortic dissections: "
   ]
  },
  {
   "cell_type": "code",
   "execution_count": 15,
   "metadata": {
    "ExecuteTime": {
     "end_time": "2024-02-18T17:30:37.480419800Z",
     "start_time": "2024-02-18T17:30:37.460993200Z"
    }
   },
   "outputs": [
    {
     "data": {
      "text/plain": "    Image_Type  Brain_bleed_probability  Aortic_dissection_probability  \\\n15  chest_xray                      0.0                           0.95   \n10  chest_xray                      0.0                           0.94   \n75  chest_xray                      0.0                           0.93   \n47  chest_xray                      0.0                           0.93   \n48  chest_xray                      0.0                           0.84   \n38  chest_xray                      0.0                           0.83   \n62  chest_xray                      0.0                           0.82   \n87  chest_xray                      0.0                           0.82   \n44  chest_xray                      0.0                           0.81   \n85  chest_xray                      0.0                           0.79   \n81  chest_xray                      0.0                           0.73   \n53  chest_xray                      0.0                           0.72   \n27  chest_xray                      0.0                           0.71   \n51  chest_xray                      0.0                           0.71   \n66  chest_xray                      0.0                           0.70   \n46  chest_xray                      0.0                           0.60   \n69  chest_xray                      0.0                           0.60   \n93  chest_xray                      0.0                           0.49   \n70  chest_xray                      0.0                           0.48   \n72  chest_xray                      0.0                           0.38   \n92  chest_xray                      0.0                           0.26   \n61  chest_xray                      0.0                           0.26   \n74  chest_xray                      0.0                           0.15   \n90  chest_xray                      0.0                           0.15   \n79  chest_xray                      0.0                           0.11   \n83  chest_xray                      0.0                           0.11   \n94  chest_xray                      0.0                           0.06   \n77  chest_xray                      0.0                           0.04   \n\n    time_to_read  max_prob  time_to_read_prioritized  time_delta  \n15            96      0.95                        12          84  \n10            66      0.94                        18          48  \n75           456      0.93                        24         432  \n47           288      0.93                        30         258  \n48           294      0.84                        60         234  \n38           234      0.83                        66         168  \n62           378      0.82                        72         306  \n87           528      0.82                        78         450  \n44           270      0.81                        84         186  \n85           516      0.79                        90         426  \n81           492      0.73                       114         378  \n53           324      0.72                       120         204  \n27           168      0.71                       126          42  \n51           312      0.71                       132         180  \n66           402      0.70                       138         264  \n46           282      0.60                       168         114  \n69           420      0.60                       174         246  \n93           564      0.49                       186         378  \n70           426      0.48                       192         234  \n72           438      0.38                       210         228  \n92           558      0.26                       234         324  \n61           372      0.26                       240         132  \n74           450      0.15                       288         162  \n90           546      0.15                       294         252  \n79           480      0.11                       306         174  \n83           504      0.11                       312         192  \n94           570      0.06                       330         240  \n77           468      0.04                       348         120  ",
      "text/html": "<div>\n<style scoped>\n    .dataframe tbody tr th:only-of-type {\n        vertical-align: middle;\n    }\n\n    .dataframe tbody tr th {\n        vertical-align: top;\n    }\n\n    .dataframe thead th {\n        text-align: right;\n    }\n</style>\n<table border=\"1\" class=\"dataframe\">\n  <thead>\n    <tr style=\"text-align: right;\">\n      <th></th>\n      <th>Image_Type</th>\n      <th>Brain_bleed_probability</th>\n      <th>Aortic_dissection_probability</th>\n      <th>time_to_read</th>\n      <th>max_prob</th>\n      <th>time_to_read_prioritized</th>\n      <th>time_delta</th>\n    </tr>\n  </thead>\n  <tbody>\n    <tr>\n      <th>15</th>\n      <td>chest_xray</td>\n      <td>0.0</td>\n      <td>0.95</td>\n      <td>96</td>\n      <td>0.95</td>\n      <td>12</td>\n      <td>84</td>\n    </tr>\n    <tr>\n      <th>10</th>\n      <td>chest_xray</td>\n      <td>0.0</td>\n      <td>0.94</td>\n      <td>66</td>\n      <td>0.94</td>\n      <td>18</td>\n      <td>48</td>\n    </tr>\n    <tr>\n      <th>75</th>\n      <td>chest_xray</td>\n      <td>0.0</td>\n      <td>0.93</td>\n      <td>456</td>\n      <td>0.93</td>\n      <td>24</td>\n      <td>432</td>\n    </tr>\n    <tr>\n      <th>47</th>\n      <td>chest_xray</td>\n      <td>0.0</td>\n      <td>0.93</td>\n      <td>288</td>\n      <td>0.93</td>\n      <td>30</td>\n      <td>258</td>\n    </tr>\n    <tr>\n      <th>48</th>\n      <td>chest_xray</td>\n      <td>0.0</td>\n      <td>0.84</td>\n      <td>294</td>\n      <td>0.84</td>\n      <td>60</td>\n      <td>234</td>\n    </tr>\n    <tr>\n      <th>38</th>\n      <td>chest_xray</td>\n      <td>0.0</td>\n      <td>0.83</td>\n      <td>234</td>\n      <td>0.83</td>\n      <td>66</td>\n      <td>168</td>\n    </tr>\n    <tr>\n      <th>62</th>\n      <td>chest_xray</td>\n      <td>0.0</td>\n      <td>0.82</td>\n      <td>378</td>\n      <td>0.82</td>\n      <td>72</td>\n      <td>306</td>\n    </tr>\n    <tr>\n      <th>87</th>\n      <td>chest_xray</td>\n      <td>0.0</td>\n      <td>0.82</td>\n      <td>528</td>\n      <td>0.82</td>\n      <td>78</td>\n      <td>450</td>\n    </tr>\n    <tr>\n      <th>44</th>\n      <td>chest_xray</td>\n      <td>0.0</td>\n      <td>0.81</td>\n      <td>270</td>\n      <td>0.81</td>\n      <td>84</td>\n      <td>186</td>\n    </tr>\n    <tr>\n      <th>85</th>\n      <td>chest_xray</td>\n      <td>0.0</td>\n      <td>0.79</td>\n      <td>516</td>\n      <td>0.79</td>\n      <td>90</td>\n      <td>426</td>\n    </tr>\n    <tr>\n      <th>81</th>\n      <td>chest_xray</td>\n      <td>0.0</td>\n      <td>0.73</td>\n      <td>492</td>\n      <td>0.73</td>\n      <td>114</td>\n      <td>378</td>\n    </tr>\n    <tr>\n      <th>53</th>\n      <td>chest_xray</td>\n      <td>0.0</td>\n      <td>0.72</td>\n      <td>324</td>\n      <td>0.72</td>\n      <td>120</td>\n      <td>204</td>\n    </tr>\n    <tr>\n      <th>27</th>\n      <td>chest_xray</td>\n      <td>0.0</td>\n      <td>0.71</td>\n      <td>168</td>\n      <td>0.71</td>\n      <td>126</td>\n      <td>42</td>\n    </tr>\n    <tr>\n      <th>51</th>\n      <td>chest_xray</td>\n      <td>0.0</td>\n      <td>0.71</td>\n      <td>312</td>\n      <td>0.71</td>\n      <td>132</td>\n      <td>180</td>\n    </tr>\n    <tr>\n      <th>66</th>\n      <td>chest_xray</td>\n      <td>0.0</td>\n      <td>0.70</td>\n      <td>402</td>\n      <td>0.70</td>\n      <td>138</td>\n      <td>264</td>\n    </tr>\n    <tr>\n      <th>46</th>\n      <td>chest_xray</td>\n      <td>0.0</td>\n      <td>0.60</td>\n      <td>282</td>\n      <td>0.60</td>\n      <td>168</td>\n      <td>114</td>\n    </tr>\n    <tr>\n      <th>69</th>\n      <td>chest_xray</td>\n      <td>0.0</td>\n      <td>0.60</td>\n      <td>420</td>\n      <td>0.60</td>\n      <td>174</td>\n      <td>246</td>\n    </tr>\n    <tr>\n      <th>93</th>\n      <td>chest_xray</td>\n      <td>0.0</td>\n      <td>0.49</td>\n      <td>564</td>\n      <td>0.49</td>\n      <td>186</td>\n      <td>378</td>\n    </tr>\n    <tr>\n      <th>70</th>\n      <td>chest_xray</td>\n      <td>0.0</td>\n      <td>0.48</td>\n      <td>426</td>\n      <td>0.48</td>\n      <td>192</td>\n      <td>234</td>\n    </tr>\n    <tr>\n      <th>72</th>\n      <td>chest_xray</td>\n      <td>0.0</td>\n      <td>0.38</td>\n      <td>438</td>\n      <td>0.38</td>\n      <td>210</td>\n      <td>228</td>\n    </tr>\n    <tr>\n      <th>92</th>\n      <td>chest_xray</td>\n      <td>0.0</td>\n      <td>0.26</td>\n      <td>558</td>\n      <td>0.26</td>\n      <td>234</td>\n      <td>324</td>\n    </tr>\n    <tr>\n      <th>61</th>\n      <td>chest_xray</td>\n      <td>0.0</td>\n      <td>0.26</td>\n      <td>372</td>\n      <td>0.26</td>\n      <td>240</td>\n      <td>132</td>\n    </tr>\n    <tr>\n      <th>74</th>\n      <td>chest_xray</td>\n      <td>0.0</td>\n      <td>0.15</td>\n      <td>450</td>\n      <td>0.15</td>\n      <td>288</td>\n      <td>162</td>\n    </tr>\n    <tr>\n      <th>90</th>\n      <td>chest_xray</td>\n      <td>0.0</td>\n      <td>0.15</td>\n      <td>546</td>\n      <td>0.15</td>\n      <td>294</td>\n      <td>252</td>\n    </tr>\n    <tr>\n      <th>79</th>\n      <td>chest_xray</td>\n      <td>0.0</td>\n      <td>0.11</td>\n      <td>480</td>\n      <td>0.11</td>\n      <td>306</td>\n      <td>174</td>\n    </tr>\n    <tr>\n      <th>83</th>\n      <td>chest_xray</td>\n      <td>0.0</td>\n      <td>0.11</td>\n      <td>504</td>\n      <td>0.11</td>\n      <td>312</td>\n      <td>192</td>\n    </tr>\n    <tr>\n      <th>94</th>\n      <td>chest_xray</td>\n      <td>0.0</td>\n      <td>0.06</td>\n      <td>570</td>\n      <td>0.06</td>\n      <td>330</td>\n      <td>240</td>\n    </tr>\n    <tr>\n      <th>77</th>\n      <td>chest_xray</td>\n      <td>0.0</td>\n      <td>0.04</td>\n      <td>468</td>\n      <td>0.04</td>\n      <td>348</td>\n      <td>120</td>\n    </tr>\n  </tbody>\n</table>\n</div>"
     },
     "execution_count": 15,
     "metadata": {},
     "output_type": "execute_result"
    }
   ],
   "source": [
    "worklist_prioritized[((worklist_prioritized.time_delta>=15)&(worklist_prioritized.Image_Type=='chest_xray'))]"
   ]
  },
  {
   "cell_type": "code",
   "execution_count": 16,
   "metadata": {
    "ExecuteTime": {
     "end_time": "2024-02-18T17:30:38.296898700Z",
     "start_time": "2024-02-18T17:30:38.283801700Z"
    }
   },
   "outputs": [
    {
     "data": {
      "text/plain": "28"
     },
     "execution_count": 16,
     "metadata": {},
     "output_type": "execute_result"
    }
   ],
   "source": [
    "len(worklist_prioritized[((worklist_prioritized.time_delta>=15)&(worklist_prioritized.Image_Type=='chest_xray'))])"
   ]
  },
  {
   "cell_type": "markdown",
   "metadata": {},
   "source": [
    "Looks like there are 28 chest x-rays that were read more than 15 minutes faster than their original order. All but the last nine had a probability of aortic dissection < 0.4."
   ]
  },
  {
   "cell_type": "code",
   "outputs": [],
   "source": [],
   "metadata": {
    "collapsed": false
   }
  }
 ],
 "metadata": {
  "kernelspec": {
   "display_name": "Python 3",
   "language": "python",
   "name": "python3"
  },
  "language_info": {
   "codemirror_mode": {
    "name": "ipython",
    "version": 3
   },
   "file_extension": ".py",
   "mimetype": "text/x-python",
   "name": "python",
   "nbconvert_exporter": "python",
   "pygments_lexer": "ipython3",
   "version": "3.7.6"
  }
 },
 "nbformat": 4,
 "nbformat_minor": 2
}
